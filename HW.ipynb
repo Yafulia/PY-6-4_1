{
 "cells": [
  {
   "cell_type": "code",
   "execution_count": 1,
   "metadata": {
    "collapsed": true
   },
   "outputs": [],
   "source": [
    "import pandas as pd"
   ]
  },
  {
   "cell_type": "code",
   "execution_count": 2,
   "metadata": {
    "collapsed": true
   },
   "outputs": [],
   "source": [
    "DATA_PATH = 'C:/Users/User8/Documents/names/'"
   ]
  },
  {
   "cell_type": "code",
   "execution_count": 7,
   "metadata": {
    "collapsed": true
   },
   "outputs": [],
   "source": [
    "def count_top3(years):\n",
    "    if (len(years) > 0):\n",
    "        names_list = []\n",
    "        for year in years:\n",
    "            filename = DATA_PATH + 'yob' + str(year) + '.txt'\n",
    "            names = pd.read_csv(filename, names=['Name', 'Gender', 'Count'])\n",
    "            names_list.append(names)\n",
    "\n",
    "        result = pd.concat(names_list)\n",
    "\n",
    "        result = result.groupby(by='Name', as_index=False).sum()\n",
    "        result = result.sort_values(by='Count', ascending=False).head(3)\n",
    "\n",
    "        result = result.Name.to_string(index=False)\n",
    "        top_result = result.replace(' ','').split('\\n')\n",
    "        return top_result\n",
    "    else:\n",
    "        print('Список дат пустой!')"
   ]
  },
  {
   "cell_type": "code",
   "execution_count": 9,
   "metadata": {},
   "outputs": [
    {
     "data": {
      "text/plain": [
       "['John', 'William', 'Mary']"
      ]
     },
     "execution_count": 9,
     "metadata": {},
     "output_type": "execute_result"
    }
   ],
   "source": [
    "count_top3([1880])"
   ]
  },
  {
   "cell_type": "code",
   "execution_count": 10,
   "metadata": {},
   "outputs": [
    {
     "data": {
      "text/plain": [
       "['James', 'John', 'Robert']"
      ]
     },
     "execution_count": 10,
     "metadata": {},
     "output_type": "execute_result"
    }
   ],
   "source": [
    " count_top3([1900, 1950, 2000])"
   ]
  },
  {
   "cell_type": "code",
   "execution_count": 8,
   "metadata": {},
   "outputs": [
    {
     "name": "stdout",
     "output_type": "stream",
     "text": [
      "Список дат пустой!\n"
     ]
    }
   ],
   "source": [
    "count_top3([])"
   ]
  },
  {
   "cell_type": "code",
   "execution_count": 11,
   "metadata": {
    "collapsed": true
   },
   "outputs": [],
   "source": [
    "def count_dynamics(years):\n",
    "    names_dict = {'F': [], 'M': []}\n",
    "    for year in years:\n",
    "        filename = DATA_PATH + 'yob' + str(year) + '.txt'\n",
    "        names = pd.read_csv(filename, names=['Name', 'Gender', 'Count'])\n",
    "        women = names.query('Gender==\"F\"').Count.sum()\n",
    "        names_dict['F'].append(women)\n",
    "        men = names.query('Gender==\"M\"').Count.sum()\n",
    "        names_dict['M'].append(men)\n",
    "    return names_dict"
   ]
  },
  {
   "cell_type": "code",
   "execution_count": 12,
   "metadata": {},
   "outputs": [
    {
     "data": {
      "text/plain": [
       "{'F': [299810, 1713259, 1814922], 'M': [150486, 1790871, 1962744]}"
      ]
     },
     "execution_count": 12,
     "metadata": {},
     "output_type": "execute_result"
    }
   ],
   "source": [
    "count_dynamics([1900, 1950, 2000])"
   ]
  }
 ],
 "metadata": {
  "kernelspec": {
   "display_name": "Python 3",
   "language": "python",
   "name": "python3"
  },
  "language_info": {
   "codemirror_mode": {
    "name": "ipython",
    "version": 3
   },
   "file_extension": ".py",
   "mimetype": "text/x-python",
   "name": "python",
   "nbconvert_exporter": "python",
   "pygments_lexer": "ipython3",
   "version": "3.6.1"
  }
 },
 "nbformat": 4,
 "nbformat_minor": 2
}
